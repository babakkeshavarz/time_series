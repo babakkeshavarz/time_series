{
  "nbformat": 4,
  "nbformat_minor": 0,
  "metadata": {
    "colab": {
      "provenance": [],
      "authorship_tag": "ABX9TyOWedQ7cnZXzWmUlkUn1ZGf",
      "include_colab_link": true
    },
    "kernelspec": {
      "name": "python3",
      "display_name": "Python 3"
    },
    "language_info": {
      "name": "python"
    }
  },
  "cells": [
    {
      "cell_type": "markdown",
      "metadata": {
        "id": "view-in-github",
        "colab_type": "text"
      },
      "source": [
        "<a href=\"https://colab.research.google.com/github/babakkeshavarz/time_series/blob/main/HoltWinters_Exercise1.ipynb\" target=\"_parent\"><img src=\"https://colab.research.google.com/assets/colab-badge.svg\" alt=\"Open In Colab\"/></a>"
      ]
    },
    {
      "cell_type": "code",
      "execution_count": 5,
      "metadata": {
        "colab": {
          "base_uri": "https://localhost:8080/"
        },
        "id": "bf6xRWkZwJHF",
        "outputId": "ecc032b6-7628-4a8a-d997-ab1657986c60"
      },
      "outputs": [
        {
          "output_type": "stream",
          "name": "stdout",
          "text": [
            "--2023-06-23 19:37:18--  https://lazyprogrammer.me/course_files/timeseries/perrin-freres-monthly-champagne.csv\n",
            "Resolving lazyprogrammer.me (lazyprogrammer.me)... 172.67.213.166, 104.21.23.210, 2606:4700:3031::6815:17d2, ...\n",
            "Connecting to lazyprogrammer.me (lazyprogrammer.me)|172.67.213.166|:443... connected.\n",
            "HTTP request sent, awaiting response... 200 OK\n",
            "Length: 1598 (1.6K) [text/csv]\n",
            "Saving to: ‘perrin-freres-monthly-champagne.csv’\n",
            "\n",
            "\r          perrin-fr   0%[                    ]       0  --.-KB/s               \rperrin-freres-month 100%[===================>]   1.56K  --.-KB/s    in 0s      \n",
            "\n",
            "2023-06-23 19:37:18 (28.1 MB/s) - ‘perrin-freres-monthly-champagne.csv’ saved [1598/1598]\n",
            "\n"
          ]
        }
      ],
      "source": [
        "!wget -nc https://lazyprogrammer.me/course_files/timeseries/perrin-freres-monthly-champagne.csv"
      ]
    },
    {
      "cell_type": "code",
      "source": [],
      "metadata": {
        "id": "7oudy-wywYT5"
      },
      "execution_count": null,
      "outputs": []
    }
  ]
}