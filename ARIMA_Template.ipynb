{
  "nbformat": 4,
  "nbformat_minor": 0,
  "metadata": {
    "colab": {
      "provenance": [],
      "authorship_tag": "ABX9TyMkTd4Hw4lKkZ2Va2b7Hz+e",
      "include_colab_link": true
    },
    "kernelspec": {
      "name": "python3",
      "display_name": "Python 3"
    },
    "language_info": {
      "name": "python"
    }
  },
  "cells": [
    {
      "cell_type": "markdown",
      "metadata": {
        "id": "view-in-github",
        "colab_type": "text"
      },
      "source": [
        "<a href=\"https://colab.research.google.com/github/babakkeshavarz/time_series/blob/main/ARIMA_Template.ipynb\" target=\"_parent\"><img src=\"https://colab.research.google.com/assets/colab-badge.svg\" alt=\"Open In Colab\"/></a>"
      ]
    },
    {
      "cell_type": "code",
      "execution_count": null,
      "metadata": {
        "id": "s2BbACBcg8pj"
      },
      "outputs": [],
      "source": [
        "use adfuller(df['passenger'])  . If the second number is higher than 5%, we can't reject the null hypothesis and can't say the process is stationary\n",
        "\n",
        "then we can start differentiating  adfuller(df['passenger'].diff(.dropna())). if the second value is below 5% then we reject the null hypothesis and we have acheieve stationarity."
      ]
    }
  ]
}