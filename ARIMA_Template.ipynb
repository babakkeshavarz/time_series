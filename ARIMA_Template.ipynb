{
  "nbformat": 4,
  "nbformat_minor": 0,
  "metadata": {
    "colab": {
      "provenance": [],
      "authorship_tag": "ABX9TyPqYHHqD0mYzq4kJgN9txr/",
      "include_colab_link": true
    },
    "kernelspec": {
      "name": "python3",
      "display_name": "Python 3"
    },
    "language_info": {
      "name": "python"
    }
  },
  "cells": [
    {
      "cell_type": "markdown",
      "metadata": {
        "id": "view-in-github",
        "colab_type": "text"
      },
      "source": [
        "<a href=\"https://colab.research.google.com/github/babakkeshavarz/time_series/blob/main/ARIMA_Template.ipynb\" target=\"_parent\"><img src=\"https://colab.research.google.com/assets/colab-badge.svg\" alt=\"Open In Colab\"/></a>"
      ]
    },
    {
      "cell_type": "markdown",
      "source": [
        "##ARIMA##\n",
        "Three parameters to adjust:\n",
        "- p: For auto regression ie. how many of the previous values should be used in the prediction. The largest non-zero shift position in PACF. Might need a few tries.\n",
        "- d: differentiation to achieve stationarity. Typically 1 is enough. Max 2. adfuller can be used to determine stationarity.\n",
        "- q:  For moving average. The largest non-zero shift position in ACF."
      ],
      "metadata": {
        "id": "n94Fmiun2Hhw"
      }
    },
    {
      "cell_type": "markdown",
      "source": [
        "##Implementation##\n"
      ],
      "metadata": {
        "id": "1gTM3cCo3cQq"
      }
    },
    {
      "cell_type": "code",
      "execution_count": null,
      "metadata": {
        "id": "s2BbACBcg8pj"
      },
      "outputs": [],
      "source": [
        "use adfuller(df['passenger'])  . If the second number is higher than 5%, we can't reject the null hypothesis and can't say the process is stationary\n",
        "\n",
        "then we can start differentiating  adfuller(df['passenger'].diff(.dropna())). if the second value is below 5% then we reject the null hypothesis and we have acheieve stationarity."
      ]
    }
  ]
}