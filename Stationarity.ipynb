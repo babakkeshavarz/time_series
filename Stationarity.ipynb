{
  "nbformat": 4,
  "nbformat_minor": 0,
  "metadata": {
    "colab": {
      "provenance": [],
      "authorship_tag": "ABX9TyOH0l55z0pGm3tad/GrP/Q2",
      "include_colab_link": true
    },
    "kernelspec": {
      "name": "python3",
      "display_name": "Python 3"
    },
    "language_info": {
      "name": "python"
    }
  },
  "cells": [
    {
      "cell_type": "markdown",
      "metadata": {
        "id": "view-in-github",
        "colab_type": "text"
      },
      "source": [
        "<a href=\"https://colab.research.google.com/github/babakkeshavarz/time_series/blob/main/Stationarity.ipynb\" target=\"_parent\"><img src=\"https://colab.research.google.com/assets/colab-badge.svg\" alt=\"Open In Colab\"/></a>"
      ]
    },
    {
      "cell_type": "code",
      "execution_count": 4,
      "metadata": {
        "id": "ep1Lnbg70CdM"
      },
      "outputs": [],
      "source": [
        "import pandas as pd\n",
        "import numpy as np\n",
        "import seaborn as sns\n",
        "import matplotlib.pyplot as plt\n",
        "from statsmodels.tsa.stattools import adfuller"
      ]
    },
    {
      "cell_type": "code",
      "source": [
        "!wget -nc https://lazyprogrammer.me/course_files/airline_passengers.csv"
      ],
      "metadata": {
        "colab": {
          "base_uri": "https://localhost:8080/"
        },
        "id": "qMZ4OFqI0F7_",
        "outputId": "3a9817f8-dec3-400c-99f0-ba8cd62fcfd4"
      },
      "execution_count": 2,
      "outputs": [
        {
          "output_type": "stream",
          "name": "stdout",
          "text": [
            "--2023-06-30 01:00:04--  https://lazyprogrammer.me/course_files/airline_passengers.csv\n",
            "Resolving lazyprogrammer.me (lazyprogrammer.me)... 172.67.213.166, 104.21.23.210, 2606:4700:3030::ac43:d5a6, ...\n",
            "Connecting to lazyprogrammer.me (lazyprogrammer.me)|172.67.213.166|:443... connected.\n",
            "HTTP request sent, awaiting response... 200 OK\n",
            "Length: 2036 (2.0K) [text/csv]\n",
            "Saving to: ‘airline_passengers.csv’\n",
            "\n",
            "airline_passengers. 100%[===================>]   1.99K  --.-KB/s    in 0s      \n",
            "\n",
            "2023-06-30 01:00:04 (45.9 MB/s) - ‘airline_passengers.csv’ saved [2036/2036]\n",
            "\n"
          ]
        }
      ]
    },
    {
      "cell_type": "code",
      "source": [
        "df = pd.read_csv('airline_passengers.csv', index_col= 'Month' , parse_dates= True)"
      ],
      "metadata": {
        "id": "xt-UhMBF0HYu"
      },
      "execution_count": 3,
      "outputs": []
    },
    {
      "cell_type": "code",
      "source": [
        "adfuller(df['Passengers'])"
      ],
      "metadata": {
        "colab": {
          "base_uri": "https://localhost:8080/"
        },
        "id": "-l86iVBK0KPs",
        "outputId": "8689f758-c618-459b-d036-c32aebeaa5f9"
      },
      "execution_count": 5,
      "outputs": [
        {
          "output_type": "execute_result",
          "data": {
            "text/plain": [
              "(0.8153688792060498,\n",
              " 0.991880243437641,\n",
              " 13,\n",
              " 130,\n",
              " {'1%': -3.4816817173418295,\n",
              "  '5%': -2.8840418343195267,\n",
              "  '10%': -2.578770059171598},\n",
              " 996.692930839019)"
            ]
          },
          "metadata": {},
          "execution_count": 5
        }
      ]
    },
    {
      "cell_type": "code",
      "source": [
        "def adf(x):\n",
        "  res = adfuller(x)\n",
        "  print(\"Test statistic: \", res[0])\n",
        "  print(\"p-value: \", res[1])\n",
        "  if res[1] < 0.05:\n",
        "    print('Stationary')\n",
        "  else:\n",
        "    print('Non-Stationary')\n"
      ],
      "metadata": {
        "id": "jU4iJX_v0V2R"
      },
      "execution_count": 8,
      "outputs": []
    },
    {
      "cell_type": "code",
      "source": [
        "adf(df['Passengers'])"
      ],
      "metadata": {
        "colab": {
          "base_uri": "https://localhost:8080/"
        },
        "id": "7XajHVtU1Da-",
        "outputId": "8783ebfc-c304-4371-bd03-b026937fe1d4"
      },
      "execution_count": 9,
      "outputs": [
        {
          "output_type": "stream",
          "name": "stdout",
          "text": [
            "Test statistic:  0.8153688792060498\n",
            "p-value:  0.991880243437641\n",
            "Non-Stationary\n"
          ]
        }
      ]
    },
    {
      "cell_type": "code",
      "source": [
        "adf(np.random.randn(100))"
      ],
      "metadata": {
        "colab": {
          "base_uri": "https://localhost:8080/"
        },
        "id": "nxMhMI7N1Has",
        "outputId": "dd8cfb27-92bf-4486-9c89-151f950f347e"
      },
      "execution_count": 12,
      "outputs": [
        {
          "output_type": "stream",
          "name": "stdout",
          "text": [
            "Test statistic:  -9.145754014679127\n",
            "p-value:  2.770995950067292e-15\n",
            "Stationary\n"
          ]
        }
      ]
    },
    {
      "cell_type": "code",
      "source": [
        "adf(np.random.gamma(1,1,100))"
      ],
      "metadata": {
        "colab": {
          "base_uri": "https://localhost:8080/"
        },
        "id": "LzxeN5lh1QNz",
        "outputId": "552a4b13-e2a8-4701-9001-bc59329c8c5b"
      },
      "execution_count": 13,
      "outputs": [
        {
          "output_type": "stream",
          "name": "stdout",
          "text": [
            "Test statistic:  -3.216974195059436\n",
            "p-value:  0.0190229318072322\n",
            "Stationary\n"
          ]
        }
      ]
    },
    {
      "cell_type": "code",
      "source": [
        "df['LogPassengers'] = np.log(df['Passengers'])"
      ],
      "metadata": {
        "id": "xyA0MsUw1UZx"
      },
      "execution_count": 15,
      "outputs": []
    },
    {
      "cell_type": "code",
      "source": [
        "adf(df['LogPassengers'])"
      ],
      "metadata": {
        "colab": {
          "base_uri": "https://localhost:8080/"
        },
        "id": "3m6MCvfx1ltL",
        "outputId": "2c4f3020-2c0c-4337-b6fd-4f9ba2644eb8"
      },
      "execution_count": 16,
      "outputs": [
        {
          "output_type": "stream",
          "name": "stdout",
          "text": [
            "Test statistic:  -1.7170170891069683\n",
            "p-value:  0.4223667747703874\n",
            "Non-Stationary\n"
          ]
        }
      ]
    },
    {
      "cell_type": "code",
      "source": [
        "df['Difflog'] = df['LogPassengers'].diff()"
      ],
      "metadata": {
        "id": "9GgbyyDg1qGi"
      },
      "execution_count": 20,
      "outputs": []
    },
    {
      "cell_type": "code",
      "source": [
        "adf(df['Difflog'].dropna())"
      ],
      "metadata": {
        "colab": {
          "base_uri": "https://localhost:8080/"
        },
        "id": "7j5S9t0G1y9R",
        "outputId": "c5d6f552-9d32-487a-fadc-b8fd6badf6b5"
      },
      "execution_count": 21,
      "outputs": [
        {
          "output_type": "stream",
          "name": "stdout",
          "text": [
            "Test statistic:  -2.717130598388114\n",
            "p-value:  0.07112054815086184\n",
            "Non-Stationary\n"
          ]
        }
      ]
    },
    {
      "cell_type": "code",
      "source": [],
      "metadata": {
        "id": "nJXGOUsR12kp"
      },
      "execution_count": null,
      "outputs": []
    }
  ]
}